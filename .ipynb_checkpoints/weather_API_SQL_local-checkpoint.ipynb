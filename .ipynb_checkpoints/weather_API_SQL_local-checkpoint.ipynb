{
 "cells": [
  {
   "cell_type": "code",
   "execution_count": null,
   "id": "79a95e35",
   "metadata": {},
   "outputs": [],
   "source": [
    "# import libraries\n",
    "import pandas as pd\n",
    "import sqlalchemy\n",
    "import pymysql\n",
    "import requests\n",
    "import config"
   ]
  },
  {
   "cell_type": "code",
   "execution_count": null,
   "id": "71e4a3b7-2a5a-4d4c-9b7d-7d5d8195b232",
   "metadata": {},
   "outputs": [],
   "source": [
    "# import df cities from SQL\n",
    "host = config.host\n",
    "schema = config.schema\n",
    "user = config.user\n",
    "password = config.password\n",
    "port = config.port\n",
    "con = f'mysql+pymysql://{user}:{password}@{host}:{port}/{schema}'\n",
    "cities_df=pd.read_sql(\"cities\",con=con)\n",
    "\n",
    "# convert cities_df columns city_id and city_name in lists\n",
    "city_list = cities_df.city_name.tolist()\n",
    "id_list = cities_df.city_id.tolist()"
   ]
  },
  {
   "cell_type": "markdown",
   "id": "c3abe17b-71cd-42ea-80c5-726d095b9b13",
   "metadata": {},
   "source": [
    "### API-call function"
   ]
  },
  {
   "cell_type": "code",
   "execution_count": null,
   "id": "2c996586-2474-412d-bbd6-67c8c2320359",
   "metadata": {},
   "outputs": [],
   "source": [
    "# introduce global auxiliary variable\n",
    "req = []"
   ]
  },
  {
   "cell_type": "code",
   "execution_count": null,
   "id": "c4248e33-c71e-4ede-9510-7da7c8116cce",
   "metadata": {},
   "outputs": [],
   "source": [
    "def weather(city_list,id_list):\n",
    "    \n",
    "    # request with cities list\n",
    "    for i in range(len(city_list)):\n",
    "        \n",
    "        # getting the json file keeping only the key 'list'\n",
    "        temp_data = requests.get(\n",
    "            f\"http://api.openweathermap.org/data/2.5/forecast?q={city_list[i]}&appid={config.API_key}&units=metric\").json()[\"list\"]\n",
    "        \n",
    "        # convert json to dataframe\n",
    "        temp_df = pd.json_normalize(temp_data)\n",
    "        \n",
    "        # add column with value city\n",
    "        temp_df['city_id'] = id_list[i]\n",
    "        \n",
    "        # put every dataframe in a big list\n",
    "        req.append(temp_df)\n",
    "        \n",
    "    # concat the elements of the list to one single df\n",
    "    req_concat = pd.concat(req, sort=False).reset_index()\n",
    "    \n",
    "    # remove the columns we don't need\n",
    "    weather_info = req_concat[[\n",
    "        \"city_id\", \"dt_txt\", \"main.feels_like\", \"visibility\", \"rain.3h\", \"wind.speed\", \"snow.3h\"]]\n",
    "    \n",
    "    # rename columns\n",
    "    weather_info.columns = [\"city_id\", \"date_time\",\n",
    "                            \"temperature\", \"visibility\", \"rain\", \"wind_speed\", \"snow\"]\n",
    "    \n",
    "    # convert to datetime type\n",
    "    weather_info[\"date_time\"] = pd.to_datetime(weather_info[\"date_time\"])\n",
    "    \n",
    "    return weather_info"
   ]
  },
  {
   "cell_type": "code",
   "execution_count": null,
   "id": "96732cf7-5ad6-4f7e-87e6-51228f8eeb2a",
   "metadata": {},
   "outputs": [],
   "source": [
    "weather_info = weather(city_list,id_list)\n",
    "weather_info"
   ]
  },
  {
   "cell_type": "markdown",
   "id": "8ffa5eba-5901-46ea-8e01-43c160ef47fa",
   "metadata": {},
   "source": [
    "### Send to SQL"
   ]
  },
  {
   "cell_type": "code",
   "execution_count": null,
   "id": "a7a67791",
   "metadata": {},
   "outputs": [],
   "source": [
    "weather_info.to_sql('weather',con=con,if_exists='append',index=False)"
   ]
  }
 ],
 "metadata": {
  "kernelspec": {
   "display_name": "Python 3 (ipykernel)",
   "language": "python",
   "name": "python3"
  },
  "language_info": {
   "codemirror_mode": {
    "name": "ipython",
    "version": 3
   },
   "file_extension": ".py",
   "mimetype": "text/x-python",
   "name": "python",
   "nbconvert_exporter": "python",
   "pygments_lexer": "ipython3",
   "version": "3.10.9"
  }
 },
 "nbformat": 4,
 "nbformat_minor": 5
}
