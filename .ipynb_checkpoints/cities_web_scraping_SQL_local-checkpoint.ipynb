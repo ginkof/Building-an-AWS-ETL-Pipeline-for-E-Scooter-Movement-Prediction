{
 "cells": [
  {
   "cell_type": "markdown",
   "id": "44e54902-a077-4e6c-9b85-2d2678362dc9",
   "metadata": {},
   "source": [
    "# Web Scraping City Infos from Wikipedia"
   ]
  },
  {
   "cell_type": "markdown",
   "id": "e3b7a990-fe73-45a4-bd99-7f9e0afeb40a",
   "metadata": {},
   "source": [
    "Our task is to use Python to:\n",
    "* download the entire HTML document of a wikipedia page of a city\n",
    "* find and extract the numbers we need\n",
    "* send the results to SQL\n",
    "\n",
    "To do so, we:\n",
    "* download the HTML file via a **get request**\n",
    "* manipulate the HTML file via `BeautifulSoup`\n",
    "* send the resulting data to SQL using `SQLAlchemy`"
   ]
  },
  {
   "cell_type": "code",
   "execution_count": 17,
   "id": "85d0beb5",
   "metadata": {},
   "outputs": [],
   "source": [
    "from bs4 import BeautifulSoup\n",
    "import requests\n",
    "import pandas as pd\n",
    "import config"
   ]
  },
  {
   "cell_type": "markdown",
   "id": "368fd35b-003e-49dd-8690-e52dbdaf7060",
   "metadata": {},
   "source": [
    "### Definition of the scraping function"
   ]
  },
  {
   "cell_type": "code",
   "execution_count": 13,
   "id": "9245538b-d9b7-4709-9c68-14a0dae0ad52",
   "metadata": {},
   "outputs": [],
   "source": [
    "def get_city_info(city):\n",
    "\n",
    "    # prepare the get request (url and headers)\n",
    "    url = 'https://en.wikipedia.org/wiki/' + city \n",
    "    headers = {'Accept-Language':'en-US,en;q=0.8'} \n",
    "    response = requests.get(url, headers)\n",
    "    \n",
    "    # create the soup\n",
    "    soup = BeautifulSoup(response.content, 'html.parser')\n",
    "    \n",
    "    # extract desired info\n",
    "    country = soup.select(\"table.vcard td.infobox-data a\")[0]['title']\n",
    "    latitude = soup.select(\".latitude\")[0].getText()\n",
    "    longitude = soup.select(\".longitude\")[0].getText()\n",
    "    population = soup.select(\"td.infobox-data\")[10].getText()\n",
    "    \n",
    "    # create dataframe\n",
    "    df = pd.DataFrame({\n",
    "        \"city_name\":[city],\n",
    "        \"country_code\":[country],\n",
    "        \"population\":[population]\n",
    "    })\n",
    "\n",
    "    return df"
   ]
  },
  {
   "cell_type": "markdown",
   "id": "027591af-e847-4015-a0e6-ada80862b0cb",
   "metadata": {},
   "source": [
    "### Data scraping"
   ]
  },
  {
   "cell_type": "code",
   "execution_count": 14,
   "id": "2252fc2e-e96c-45f1-802f-9ed7b2fcb5bb",
   "metadata": {},
   "outputs": [
    {
     "data": {
      "text/html": [
       "<div>\n",
       "<style scoped>\n",
       "    .dataframe tbody tr th:only-of-type {\n",
       "        vertical-align: middle;\n",
       "    }\n",
       "\n",
       "    .dataframe tbody tr th {\n",
       "        vertical-align: top;\n",
       "    }\n",
       "\n",
       "    .dataframe thead th {\n",
       "        text-align: right;\n",
       "    }\n",
       "</style>\n",
       "<table border=\"1\" class=\"dataframe\">\n",
       "  <thead>\n",
       "    <tr style=\"text-align: right;\">\n",
       "      <th></th>\n",
       "      <th>city_name</th>\n",
       "      <th>country_code</th>\n",
       "      <th>population</th>\n",
       "    </tr>\n",
       "  </thead>\n",
       "  <tbody>\n",
       "    <tr>\n",
       "      <th>0</th>\n",
       "      <td>Berlin</td>\n",
       "      <td>Germany</td>\n",
       "      <td>3850809</td>\n",
       "    </tr>\n",
       "    <tr>\n",
       "      <th>1</th>\n",
       "      <td>Stockholm</td>\n",
       "      <td>Sweden</td>\n",
       "      <td>1000000</td>\n",
       "    </tr>\n",
       "  </tbody>\n",
       "</table>\n",
       "</div>"
      ],
      "text/plain": [
       "   city_name country_code  population\n",
       "0     Berlin      Germany     3850809\n",
       "1  Stockholm       Sweden     1000000"
      ]
     },
     "execution_count": 14,
     "metadata": {},
     "output_type": "execute_result"
    }
   ],
   "source": [
    "cities_list =[\"Berlin\", \"Stockholm\"]\n",
    "\n",
    "all_cities_info = []\n",
    "\n",
    "for city in cities_list:\n",
    "    all_cities_info.append(get_city_info(city))\n",
    "\n",
    "# concatenate dataframes\n",
    "final_df = pd.concat(all_cities_info, ignore_index=True)\n",
    "\n",
    "# take off commas\n",
    "final_df[\"population\"]=final_df[\"population\"].str.replace(\",\", \"\") \n",
    "\n",
    "# convert population to int\n",
    "final_df[\"population\"]=final_df[\"population\"].astype(str).astype(int) \n",
    "final_df"
   ]
  },
  {
   "cell_type": "markdown",
   "id": "fad03510-9802-4267-a12c-866eb6db75bd",
   "metadata": {},
   "source": [
    "### Sending results to SQL"
   ]
  },
  {
   "cell_type": "code",
   "execution_count": 2,
   "id": "11f5220c",
   "metadata": {},
   "outputs": [
    {
     "name": "stdout",
     "output_type": "stream",
     "text": [
      "Requirement already satisfied: pymysql in /Users/G/anaconda3/lib/python3.10/site-packages (1.1.0)\n"
     ]
    }
   ],
   "source": [
    "!pip install pymysql #installing pymysql if needed"
   ]
  },
  {
   "cell_type": "code",
   "execution_count": 19,
   "id": "412be939",
   "metadata": {},
   "outputs": [],
   "source": [
    "import sqlalchemy #connecting to your sql\n",
    "import pymysql\n",
    "host = config.host\n",
    "schema = config.schema\n",
    "user = config.user\n",
    "password = config.password\n",
    "port = config.port\n",
    "con = f'mysql+pymysql://{user}:{password}@{host}:{port}/{schema}'"
   ]
  },
  {
   "cell_type": "code",
   "execution_count": 16,
   "id": "b9ef7240",
   "metadata": {},
   "outputs": [
    {
     "data": {
      "text/plain": [
       "2"
      ]
     },
     "execution_count": 16,
     "metadata": {},
     "output_type": "execute_result"
    }
   ],
   "source": [
    "#filling the empty table in sql\n",
    "final_df.to_sql('cities',con=con,if_exists='append',index=False)"
   ]
  },
  {
   "cell_type": "code",
   "execution_count": null,
   "id": "20b29db2-219f-43dc-9491-f0566266d3ea",
   "metadata": {},
   "outputs": [],
   "source": []
  }
 ],
 "metadata": {
  "kernelspec": {
   "display_name": "Python 3 (ipykernel)",
   "language": "python",
   "name": "python3"
  },
  "language_info": {
   "codemirror_mode": {
    "name": "ipython",
    "version": 3
   },
   "file_extension": ".py",
   "mimetype": "text/x-python",
   "name": "python",
   "nbconvert_exporter": "python",
   "pygments_lexer": "ipython3",
   "version": "3.10.9"
  }
 },
 "nbformat": 4,
 "nbformat_minor": 5
}
