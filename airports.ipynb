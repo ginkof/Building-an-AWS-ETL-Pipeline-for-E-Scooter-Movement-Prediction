{
 "cells": [
  {
   "cell_type": "markdown",
   "id": "b01a8a58-b622-480e-899c-4ba8383247be",
   "metadata": {},
   "source": [
    "# Airport info\n",
    "In this notebook we first define some airport deatails and send them to SQL afterwards"
   ]
  },
  {
   "cell_type": "code",
   "execution_count": null,
   "id": "d191f054-f0b2-4858-a70c-ea6039389ef8",
   "metadata": {},
   "outputs": [],
   "source": [
    "import pandas as pd\n",
    "import config"
   ]
  },
  {
   "cell_type": "code",
   "execution_count": null,
   "id": "d1ca8b78-5484-46f7-bba9-adcd52c1e26b",
   "metadata": {},
   "outputs": [],
   "source": [
    "data=[[1,\"BER\",\"Berlin Brandenburg Airport\"],[2,\"ARN\",\"Stockholm Arlanda Airport\"],[2,\"BMA\",\"Stockholm Bromma Airport\"]]\n",
    "airports = pd.DataFrame(data, columns=['city_id', 'iata_code',\"airport_name\"])"
   ]
  },
  {
   "cell_type": "code",
   "execution_count": null,
   "id": "fbf52d30-b6ac-4e87-8cef-99cf882f32ef",
   "metadata": {},
   "outputs": [],
   "source": [
    "airports"
   ]
  },
  {
   "cell_type": "code",
   "execution_count": null,
   "id": "6a99925c-eba9-4aa1-8774-9ee1f9c34b9f",
   "metadata": {},
   "outputs": [],
   "source": [
    "import sqlalchemy #connecting to your sql\n",
    "import pymysql\n",
    "host = config.host\n",
    "schema = config.schema\n",
    "user = config.user\n",
    "password = config.password\n",
    "port = config.port\n",
    "con = f'mysql+pymysql://{user}:{password}@{host}:{port}/{schema}'\n",
    "        \n",
    "        \n",
    "airports.to_sql('airports',con=con,if_exists='append',index=False)#filling the empty table in sql"
   ]
  },
  {
   "cell_type": "code",
   "execution_count": null,
   "id": "0afe19e2-4af4-4339-b3a4-779a64bf65a8",
   "metadata": {},
   "outputs": [],
   "source": []
  }
 ],
 "metadata": {
  "kernelspec": {
   "display_name": "Python 3 (ipykernel)",
   "language": "python",
   "name": "python3"
  },
  "language_info": {
   "codemirror_mode": {
    "name": "ipython",
    "version": 3
   },
   "file_extension": ".py",
   "mimetype": "text/x-python",
   "name": "python",
   "nbconvert_exporter": "python",
   "pygments_lexer": "ipython3",
   "version": "3.10.9"
  }
 },
 "nbformat": 4,
 "nbformat_minor": 5
}
